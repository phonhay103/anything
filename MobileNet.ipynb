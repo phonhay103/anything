{
  "nbformat": 4,
  "nbformat_minor": 0,
  "metadata": {
    "colab": {
      "name": "scratchpad",
      "provenance": [],
      "include_colab_link": true
    },
    "kernelspec": {
      "display_name": "Python 3",
      "name": "python3"
    },
    "accelerator": "GPU"
  },
  "cells": [
    {
      "cell_type": "markdown",
      "metadata": {
        "id": "view-in-github",
        "colab_type": "text"
      },
      "source": [
        "<a href=\"https://colab.research.google.com/github/phonhay103/anything/blob/main/MobileNet.ipynb\" target=\"_parent\"><img src=\"https://colab.research.google.com/assets/colab-badge.svg\" alt=\"Open In Colab\"/></a>"
      ]
    },
    {
      "cell_type": "code",
      "metadata": {
        "id": "lIYdn1woOS1n"
      },
      "source": [
        "import tensorflow as tf"
      ],
      "execution_count": 26,
      "outputs": []
    },
    {
      "cell_type": "code",
      "metadata": {
        "id": "o3p90Wk_2_8m"
      },
      "source": [
        "def conv_block(inputs, filters, alpha, kernel=(3, 3), strides=(1, 1)):\n",
        "    filters = int(alpha * filters)\n",
        "    x = tf.keras.layers.Conv2D(\n",
        "        filters,\n",
        "        kernel,\n",
        "        padding='same',\n",
        "        use_bias=False,\n",
        "        strides=strides,\n",
        "        name='conv1'\n",
        "    )(inputs)\n",
        "    x = tf.keras.layers.BatchNormalization(name='conv1_bn')(x)\n",
        "    return tf.keras.layers.ReLU(6., name='conv1_relu')(x)\n",
        "\n",
        "def depthwise_conv_block(inputs, pointwise_conv_filters, alpha, depth_multiplier=1, strides=(1, 1), block_id=1):\n",
        "    pointwise_conv_filters = int(alpha * pointwise_conv_filters)\n",
        "    if strides == (1, 1):\n",
        "        x = inputs\n",
        "    else:\n",
        "        x = tf.keras.layers.ZeroPadding2D(((0, 1), (1, 0)), name='conv_pad_%d' % block_id)(inputs)\n",
        "    x = tf.keras.layers.DepthwiseConv2D((3, 3),\n",
        "                                        padding='same' if strides == (1, 1) else 'valid',\n",
        "                                        depth_multiplier=depth_multiplier,\n",
        "                                        strides=strides,\n",
        "                                        use_bias=False,\n",
        "                                        name='conv_dw_%d' % block_id)(x)\n",
        "    x = tf.keras.layers.BatchNormalization(name='conv_dw_%d_bn' % block_id)(x)\n",
        "    x = tf.keras.layers.ReLU(6., name='conv_dw_%d_relu' % block_id)(x)\n",
        "\n",
        "    x = tf.keras.layers.Conv2D(\n",
        "        pointwise_conv_filters,\n",
        "        (1, 1),\n",
        "        padding='same',\n",
        "        use_bias=False,\n",
        "        strides=(1, 1),\n",
        "        name='conv_pw_%d' % block_id)(x)\n",
        "    x = tf.keras.layers.BatchNormalization(name='conv_pw_%d_bn' % block_id)(x)\n",
        "    return tf.keras.layers.ReLU(6., name='conv_pw_%d_relu' % block_id)(x)\n",
        "\n",
        "def MobileNet(input_shape=None, alpha=1.0, depth_multiplier=1,  dropout=1e-3, classes=1000):\n",
        "    # Check\n",
        "    if alpha not in [0.25, 0.50, 0.75, 1.0]:\n",
        "        raise ValueError('If imagenet weights are being loaded, alpha can be one of `0.25`, `0.50`, `0.75` or `1.0` only.')\n",
        "\n",
        "    # Input Shape\n",
        "    if input_shape is None:\n",
        "        input_shape = (224, 224, 3)\n",
        "    else:\n",
        "        rows = input_shape[0]\n",
        "        cols = input_shape[1]\n",
        "        if rows == cols and rows in [128, 160, 192, 224]:\n",
        "            input_shape = (rows, rows, 3)\n",
        "        else:\n",
        "            input_shape = (224, 224, 3)\n",
        "    \n",
        "    # Feature Extraction\n",
        "    img_input = tf.keras.layers.Input(shape=input_shape, name='input')\n",
        "    x = conv_block(img_input, 32, alpha, strides=(2, 2))\n",
        "    x = depthwise_conv_block(x, 64, alpha, depth_multiplier, block_id=1)\n",
        "    x = depthwise_conv_block(x, 128, alpha, depth_multiplier, strides=(2, 2), block_id=2)\n",
        "    x = depthwise_conv_block(x, 128, alpha, depth_multiplier, block_id=3)\n",
        "    x = depthwise_conv_block(x, 256, alpha, depth_multiplier, strides=(2, 2), block_id=4)\n",
        "    x = depthwise_conv_block(x, 256, alpha, depth_multiplier, block_id=5)\n",
        "    x = depthwise_conv_block(x, 512, alpha, depth_multiplier, strides=(2, 2), block_id=6)\n",
        "    x = depthwise_conv_block(x, 512, alpha, depth_multiplier, block_id=7)\n",
        "    x = depthwise_conv_block(x, 512, alpha, depth_multiplier, block_id=8)\n",
        "    x = depthwise_conv_block(x, 512, alpha, depth_multiplier, block_id=9)\n",
        "    x = depthwise_conv_block(x, 512, alpha, depth_multiplier, block_id=10)\n",
        "    x = depthwise_conv_block(x, 512, alpha, depth_multiplier, block_id=11)\n",
        "    x = depthwise_conv_block(x, 1024, alpha, depth_multiplier, strides=(2, 2), block_id=12)\n",
        "    x = depthwise_conv_block(x, 1024, alpha, depth_multiplier, block_id=13)\n",
        "\n",
        "    # Classification\n",
        "    x = tf.keras.layers.GlobalAveragePooling2D()(x)\n",
        "    x = tf.keras.layers.Reshape((1, 1, int(1024 * alpha)), name='reshape_1')(x)\n",
        "    x = tf.keras.layers.Dropout(dropout, name='dropout')(x)\n",
        "    x = tf.keras.layers.Conv2D(classes, (1, 1), padding='same', name='conv_preds')(x)\n",
        "    x = tf.keras.layers.Reshape((classes,), name='reshape_2')(x)\n",
        "    \n",
        "    # Model\n",
        "    return tf.keras.Model(inputs=img_input, outputs=x)"
      ],
      "execution_count": 21,
      "outputs": []
    },
    {
      "cell_type": "code",
      "metadata": {
        "id": "h2xzoX0hPqoX"
      },
      "source": [
        "model = MobileNet()"
      ],
      "execution_count": 23,
      "outputs": []
    },
    {
      "cell_type": "code",
      "metadata": {
        "id": "QqMqO8jp5emS"
      },
      "source": [
        "model.compile(optimizer=tf.keras.optimizers.Adam(learning_rate=1e-4), loss='categorical_crossentropy', metrics=['acc'])"
      ],
      "execution_count": 25,
      "outputs": []
    },
    {
      "cell_type": "code",
      "metadata": {
        "id": "yKYnpqMZ92O4"
      },
      "source": [
        ""
      ],
      "execution_count": null,
      "outputs": []
    }
  ]
}
