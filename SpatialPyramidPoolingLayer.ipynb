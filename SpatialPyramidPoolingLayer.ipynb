{
  "nbformat": 4,
  "nbformat_minor": 0,
  "metadata": {
    "colab": {
      "name": "scratchpad",
      "provenance": [],
      "include_colab_link": true
    },
    "kernelspec": {
      "display_name": "Python 3",
      "name": "python3"
    }
  },
  "cells": [
    {
      "cell_type": "markdown",
      "metadata": {
        "id": "view-in-github",
        "colab_type": "text"
      },
      "source": [
        "<a href=\"https://colab.research.google.com/github/phonhay103/anything/blob/Books/SPP_Layer.ipynb\" target=\"_parent\"><img src=\"https://colab.research.google.com/assets/colab-badge.svg\" alt=\"Open In Colab\"/></a>"
      ]
    },
    {
      "cell_type": "code",
      "metadata": {
        "id": "lIYdn1woOS1n"
      },
      "source": [
        "import tensorflow as tf"
      ],
      "execution_count": 1,
      "outputs": []
    },
    {
      "cell_type": "code",
      "metadata": {
        "id": "mG9HLsbA1coo"
      },
      "source": [
        "class AdaptivePooling2D(tf.keras.layers.Layer):\n",
        "    def __init__ (self, reduce_function, output_size):\n",
        "        self.reduce_function = reduce_function\n",
        "        self.output_size = output_size\n",
        "        super().__init__()\n",
        "\n",
        "    def call(self, inputs):\n",
        "        h_bins = self.output_size[0]\n",
        "        w_bins = self.output_size[1]\n",
        "\n",
        "        split_cols = tf.split(inputs, h_bins, axis=1)\n",
        "        split_cols = tf.stack(split_cols, axis=1)\n",
        "        split_rows = tf.split(split_cols, w_bins, axis=3)\n",
        "        split_rows = tf.stack(split_rows, axis=3)\n",
        "        return self.recude_function(split_rows, axis=[2, 4])\n",
        "\n",
        "    def compute_output_shape(self, input_shape):\n",
        "        input_shape = tf.TensorShape(input_shape).as_list()\n",
        "        return tf.TensorShape([input_shape[0], self.output_size[0], self.output_size[1], input_shape[3],])"
      ],
      "execution_count": 6,
      "outputs": []
    },
    {
      "cell_type": "code",
      "metadata": {
        "id": "fNQKNStJ1hYk"
      },
      "source": [
        "class AdaptiveAveragePooling2D(AdaptivePooling2D):\n",
        "    def __init__ (self, output_size):\n",
        "        super().__init__(tf.reduce_mean, output_size)\n",
        "\n",
        "class AdaptiveMaxPooling2D(AdaptivePooling2D):\n",
        "    def __init__ (self, output_size):\n",
        "        super().__init__(tf.reduce_max, output_size)"
      ],
      "execution_count": 10,
      "outputs": []
    },
    {
      "cell_type": "code",
      "metadata": {
        "id": "Nkc9J7z63H4Q"
      },
      "source": [
        "class SpatialPyramidPooling2D(tf.keras.layers.Layer):\n",
        "    def __init__ (self, bins):\n",
        "        self.bins = bins\n",
        "        self.pool_layers = [AdaptiveAveragePooling2D(bin) for bin in self.bins]\n",
        "        super().__init__()\n",
        "\n",
        "    def call(self, inputs):\n",
        "        dynamic_input_shape = tf.shape(inputs)\n",
        "        outputs = []\n",
        "        for index, bin in enumerate(self.bins):\n",
        "            new_height = dynamic_input_shape[1] - dynamic_input_shape[1] % bin[0]\n",
        "            new_width = dynamic_input_shape[2] - dynamic_input_shape[2] % bin[1]\n",
        "            new_shape = inputs[:, :new_height, :new_width, :]\n",
        "\n",
        "            output = self.pool_layers[index](new_shape)\n",
        "            output = tf.reshape(output, [dynamic_input_shape[0], bin[0] * bin[1], inputs.shape[-1]])\n",
        "            outputs.append(output)\n",
        "\n",
        "        return tf.concat(outputs, axis=1)\n",
        "\n",
        "    def compute_output_shape(self, input_shape):\n",
        "        pooled_shape = 0\n",
        "        for bin in self.bins:\n",
        "            pooled_shape += tf.reduce_prod(bin)\n",
        "\n",
        "        return tf.TensorShape([input_shape[0], pooled_shape, input_shape[-1]])"
      ],
      "execution_count": 17,
      "outputs": []
    },
    {
      "cell_type": "code",
      "metadata": {
        "id": "sMCEMZ8333Dp"
      },
      "source": [
        ""
      ],
      "execution_count": null,
      "outputs": []
    }
  ]
}
