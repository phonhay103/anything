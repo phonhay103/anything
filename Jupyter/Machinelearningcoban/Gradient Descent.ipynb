{
 "cells": [
  {
   "cell_type": "code",
   "execution_count": 1,
   "metadata": {},
   "outputs": [],
   "source": [
    "import math\n",
    "import numpy as np\n",
    "import matplotlib.pyplot as plt"
   ]
  },
  {
   "cell_type": "code",
   "execution_count": 2,
   "metadata": {},
   "outputs": [
    {
     "ename": "NameError",
     "evalue": "name 'grad' is not defined",
     "output_type": "error",
     "traceback": [
      "\u001b[1;31m---------------------------------------------------------------------------\u001b[0m",
      "\u001b[1;31mNameError\u001b[0m                                 Traceback (most recent call last)",
      "\u001b[1;32m<ipython-input-2-54610fa2eb20>\u001b[0m in \u001b[0;36m<module>\u001b[1;34m\u001b[0m\n\u001b[0;32m      9\u001b[0m \u001b[1;33m\u001b[0m\u001b[0m\n\u001b[0;32m     10\u001b[0m \u001b[0mw_init\u001b[0m \u001b[1;33m=\u001b[0m \u001b[0mnp\u001b[0m\u001b[1;33m.\u001b[0m\u001b[0marray\u001b[0m\u001b[1;33m(\u001b[0m\u001b[1;33m[\u001b[0m\u001b[1;33m[\u001b[0m\u001b[1;36m2\u001b[0m\u001b[1;33m]\u001b[0m\u001b[1;33m,\u001b[0m \u001b[1;33m[\u001b[0m\u001b[1;36m1\u001b[0m\u001b[1;33m]\u001b[0m\u001b[1;33m]\u001b[0m\u001b[1;33m)\u001b[0m\u001b[1;33m\u001b[0m\u001b[1;33m\u001b[0m\u001b[0m\n\u001b[1;32m---> 11\u001b[1;33m \u001b[1;33m(\u001b[0m\u001b[0mw1\u001b[0m\u001b[1;33m,\u001b[0m \u001b[0mit1\u001b[0m\u001b[1;33m)\u001b[0m \u001b[1;33m=\u001b[0m \u001b[0mmyGD\u001b[0m\u001b[1;33m(\u001b[0m\u001b[0mw_init\u001b[0m\u001b[1;33m,\u001b[0m \u001b[0mgrad\u001b[0m\u001b[1;33m,\u001b[0m \u001b[1;36m1\u001b[0m\u001b[1;33m)\u001b[0m\u001b[1;33m\u001b[0m\u001b[1;33m\u001b[0m\u001b[0m\n\u001b[0m\u001b[0;32m     12\u001b[0m \u001b[0mprint\u001b[0m\u001b[1;33m(\u001b[0m\u001b[1;34m'Solution found by GD: w = '\u001b[0m\u001b[1;33m,\u001b[0m \u001b[0mw1\u001b[0m\u001b[1;33m[\u001b[0m\u001b[1;33m-\u001b[0m\u001b[1;36m1\u001b[0m\u001b[1;33m]\u001b[0m\u001b[1;33m.\u001b[0m\u001b[0mT\u001b[0m\u001b[1;33m,\u001b[0m \u001b[1;34m',\\nafter %d iterations.'\u001b[0m \u001b[1;33m%\u001b[0m\u001b[1;33m(\u001b[0m\u001b[0mit1\u001b[0m\u001b[1;33m+\u001b[0m\u001b[1;36m1\u001b[0m\u001b[1;33m)\u001b[0m\u001b[1;33m)\u001b[0m\u001b[1;33m\u001b[0m\u001b[1;33m\u001b[0m\u001b[0m\n",
      "\u001b[1;31mNameError\u001b[0m: name 'grad' is not defined"
     ]
    }
   ],
   "source": [
    "def myGD(w_init, grad, eta):\n",
    "    w = [w_init]\n",
    "    for it in range(100):\n",
    "        w_new = w[-1] - eta*grad(w[-1])\n",
    "        if np.linalg.norm(grad(w_new))/len(w_new) < 1e-3:\n",
    "            break \n",
    "        w.append(w_new)\n",
    "    return (w, it) \n",
    "\n",
    "w_init = np.array([[2], [1]])\n",
    "(w1, it1) = myGD(w_init, grad, 1)\n",
    "print('Solution found by GD: w = ', w1[-1].T, ',\\nafter %d iterations.' %(it1+1))"
   ]
  },
  {
   "cell_type": "code",
   "execution_count": null,
   "metadata": {},
   "outputs": [],
   "source": []
  },
  {
   "cell_type": "code",
   "execution_count": 64,
   "metadata": {},
   "outputs": [
    {
     "name": "stdout",
     "output_type": "stream",
     "text": [
      "87 [[4.02245776 2.99855499]]\n"
     ]
    }
   ],
   "source": [
    "def GD_momentum(w_init, grad, eta, gamma):\n",
    "    w = [w_init]\n",
    "    v = [np.zeros_like(w_init)]\n",
    "    for it in range(100):\n",
    "        v_new = gamma*v[-1] + eta*grad(w[-1])\n",
    "        w_new = w[-1] - v_new\n",
    "#         print(np.linalg.norm(grad(w_new))/len(w_new))\n",
    "        if np.linalg.norm(grad(w_new))/len(w_new) < 1e-3:\n",
    "            break\n",
    "        w.append(w_new)\n",
    "        v.append(v_new)\n",
    "    return (w, it)\n",
    "w_init = np.array([[2], [1]])\n",
    "(w_mm, it_mm) = GD_momentum(w_init, grad, .5, 0.9)\n",
    "print(it_mm, w_mm[-1].T)"
   ]
  },
  {
   "cell_type": "code",
   "execution_count": null,
   "metadata": {},
   "outputs": [],
   "source": []
  },
  {
   "cell_type": "code",
   "execution_count": 65,
   "metadata": {},
   "outputs": [
    {
     "name": "stdout",
     "output_type": "stream",
     "text": [
      "27 [[3.98580998 3.02326825]]\n"
     ]
    }
   ],
   "source": [
    "def GD_NAG(w_init, grad, eta, gamma):\n",
    "    w = [w_init]\n",
    "    v = [np.zeros_like(w_init)]\n",
    "    for it in range(100):\n",
    "        v_new = gamma*v[-1] + eta*grad(w[-1] - gamma*v[-1])\n",
    "        w_new = w[-1] - v_new\n",
    "#         print(np.linalg.norm(grad(w_new))/len(w_new))\n",
    "        if np.linalg.norm(grad(w_new))/len(w_new) < 1e-3:\n",
    "            break\n",
    "        w.append(w_new)\n",
    "        v.append(v_new)\n",
    "    return (w, it)\n",
    "w_init = np.array([[2], [1]])\n",
    "(w_mm, it_mm) = GD_NAG(w_init, grad, .5, 0.9)\n",
    "print(it_mm, w_mm[-1].T)"
   ]
  },
  {
   "cell_type": "code",
   "execution_count": null,
   "metadata": {},
   "outputs": [],
   "source": []
  },
  {
   "cell_type": "code",
   "execution_count": 1,
   "metadata": {},
   "outputs": [],
   "source": [
    "# single point gradient\n",
    "def sgrad(w, i, rd_id):\n",
    "    true_i = rd_id[i]\n",
    "    xi = Xbar[true_i, :]\n",
    "    yi = y[true_i]\n",
    "    a = xi @ w - yi\n",
    "    return (xi*a).reshape(2, 1)\n",
    "\n",
    "def SGD(w_init, grad, eta):\n",
    "    w = [w_init]\n",
    "    w_last_check = w_init\n",
    "    iter_check_w = 10\n",
    "    N = X.shape[0]\n",
    "    count = 0\n",
    "    for it in range(10):\n",
    "        # shuffle data \n",
    "        rd_id = np.random.permutation(N)\n",
    "        for i in range(N):\n",
    "            count += 1 \n",
    "            g = sgrad(w[-1], i, rd_id)\n",
    "            w_new = w[-1] - eta*g\n",
    "            w.append(w_new)\n",
    "            if count%iter_check_w == 0:\n",
    "                w_this_check = w_new                 \n",
    "                if np.linalg.norm(w_this_check - w_last_check)/len(w_init) < 1e-3:                                    \n",
    "                    return w\n",
    "                w_last_check = w_this_check\n",
    "    return w"
   ]
  },
  {
   "cell_type": "code",
   "execution_count": null,
   "metadata": {},
   "outputs": [],
   "source": []
  }
 ],
 "metadata": {
  "kernelspec": {
   "display_name": "Python 3",
   "language": "python",
   "name": "python3"
  },
  "language_info": {
   "codemirror_mode": {
    "name": "ipython",
    "version": 3
   },
   "file_extension": ".py",
   "mimetype": "text/x-python",
   "name": "python",
   "nbconvert_exporter": "python",
   "pygments_lexer": "ipython3",
   "version": "3.8.3"
  }
 },
 "nbformat": 4,
 "nbformat_minor": 4
}
