{
 "cells": [
  {
   "cell_type": "code",
   "execution_count": 1,
   "metadata": {},
   "outputs": [],
   "source": [
    "import numpy as np\n",
    "from time import time # for comparing runing time\n",
    "d, N = 1000, 10000 # dimension, number of training points\n",
    "X = np.random.randn(N, d) # N d-dimensional points\n",
    "z = np.random.randn(d) # d-dimensional vector"
   ]
  },
  {
   "cell_type": "code",
   "execution_count": 27,
   "metadata": {},
   "outputs": [
    {
     "data": {
      "text/plain": [
       "array([1997.58906858, 1840.74654309, 1942.45535492, ..., 1950.52938253,\n",
       "       2152.17966087, 1919.57954725])"
      ]
     },
     "execution_count": 27,
     "metadata": {},
     "output_type": "execute_result"
    }
   ],
   "source": [
    "def dist_pp(z, x):\n",
    "    d = z -  x.reshape(z.shape)\n",
    "    return np.sum(d*d)\n",
    "\n",
    "def dist_pp_naive(z, X):\n",
    "    N = X.shape[0]\n",
    "    res = np.zeros((1, N))\n",
    "    for i in range(N):\n",
    "        res[0][i] = dist_pp(z, X[i])\n",
    "    return res\n",
    "\n",
    "def dist_ps_fast(z, X):\n",
    "    X2 = np.sum(X*X, 1) # square of l2 norm of each X[i], can be precomputed\n",
    "    z2 = np.sum(z*z) # square of l2 norm of z\n",
    "    return X2 + z2 - 2*X @ z # z2 can be ignored\n",
    "\n",
    "# dist_pp_naive(z, X[0])\n",
    "# print(dist_pp(z, X[0]))\n",
    "dist_ps_fast(z, X)"
   ]
  },
  {
   "cell_type": "code",
   "execution_count": null,
   "metadata": {},
   "outputs": [],
   "source": [
    "Z = np.random.randn(100, d)\n",
    "# from each point in one set to each point in another set, half fast\n",
    "def dist_ss_0(Z, X):\n",
    "    M, N = Z.shape[0], X.shape[0]\n",
    "    res = np.zeros((M, N))\n",
    "        for i in range(M):\n",
    "        res[i] = dist_ps_fast(Z[i], X)\n",
    "    return res\n",
    "\n",
    "def dist_ss_fast(Z, X):\n",
    "    X2 = np.sum(X*X, 1) # square of l2 norm of each ROW of X\n",
    "    Z2 = np.sum(Z*Z, 1) # square of l2 norm of each ROW of Z\n",
    "    return Z2.reshape(-1, 1) + X2.reshape(1, -1) - 2*Z.dot(X.T)"
   ]
  }
 ],
 "metadata": {
  "kernelspec": {
   "display_name": "Python 3",
   "language": "python",
   "name": "python3"
  },
  "language_info": {
   "codemirror_mode": {
    "name": "ipython",
    "version": 3
   },
   "file_extension": ".py",
   "mimetype": "text/x-python",
   "name": "python",
   "nbconvert_exporter": "python",
   "pygments_lexer": "ipython3",
   "version": "3.8.3"
  }
 },
 "nbformat": 4,
 "nbformat_minor": 4
}
