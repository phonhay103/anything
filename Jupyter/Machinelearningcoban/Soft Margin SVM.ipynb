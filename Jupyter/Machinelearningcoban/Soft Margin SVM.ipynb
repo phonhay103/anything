{
 "cells": [
  {
   "cell_type": "code",
   "execution_count": 1,
   "metadata": {},
   "outputs": [],
   "source": [
    "# generate data\n",
    "# list of points \n",
    "import numpy as np \n",
    "import matplotlib.pyplot as plt\n",
    "from scipy.spatial.distance import cdist\n",
    "from matplotlib.backends.backend_pdf import PdfPages"
   ]
  },
  {
   "cell_type": "code",
   "execution_count": 4,
   "metadata": {},
   "outputs": [],
   "source": [
    "np.random.seed(22)\n",
    "\n",
    "means = [[2, 2], [4, 2]]\n",
    "cov = [[.7, 0], [0, .7]]\n",
    "N = 20\n",
    "X0 = np.random.multivariate_normal(means[0], cov, N) # each row is a data point \n",
    "X1 = np.random.multivariate_normal(means[1], cov, N)\n",
    "X = np.vstack((X0, X1))\n",
    "y = np.vstack((np.ones((N,1 )), -np.ones((N,1 )))).reshape((2*N,))"
   ]
  },
  {
   "cell_type": "code",
   "execution_count": 7,
   "metadata": {},
   "outputs": [
    {
     "name": "stdout",
     "output_type": "stream",
     "text": [
      "[[-1.87461946 -1.80697358]] 8.496911901960104\n"
     ]
    }
   ],
   "source": [
    "from sklearn.svm import SVC\n",
    "C = 100\n",
    "clf = SVC(kernel = 'linear', C = C)\n",
    "clf.fit(X, y) \n",
    "\n",
    "w_sklearn = clf.coef_.reshape(-1, 1)\n",
    "b_sklearn = clf.intercept_[0]\n",
    "print(w_sklearn.T, b_sklearn)"
   ]
  },
  {
   "cell_type": "code",
   "execution_count": 10,
   "metadata": {},
   "outputs": [
    {
     "name": "stdout",
     "output_type": "stream",
     "text": [
      "Gradient different: 0.000000\n"
     ]
    }
   ],
   "source": [
    "# Hinge loss\n",
    "X0_bar = np.vstack((X0.T, np.ones((1, N)))) # extended data\n",
    "X1_bar = np.vstack((X1.T, np.ones((1, N)))) # extended data \n",
    "\n",
    "Z = np.hstack((X0_bar, - X1_bar)) # as in (22)\n",
    "lam = 1./C\n",
    "\n",
    "def cost(w):\n",
    "    u = w.T.dot(Z) # as in (23)\n",
    "    return (np.sum(np.maximum(0, 1 - u)) + \\\n",
    "        .5*lam*np.sum(w*w)) - .5*lam*w[-1]*w[-1] # no bias \n",
    "\n",
    "def grad(w):\n",
    "    u = w.T.dot(Z) # as in (23)\n",
    "    H = np.where(u < 1)[1]\n",
    "    ZS = Z[:, H]\n",
    "    g = (-np.sum(ZS, axis = 1, keepdims = True) + lam*w)\n",
    "    g[-1] -= lam*w[-1] # no weight decay on bias\n",
    "    return g\n",
    "\n",
    "eps = 1e-6\n",
    "def num_grad(w):\n",
    "    g = np.zeros_like(w)\n",
    "    for i in range(len(w)):\n",
    "        wp = w.copy()\n",
    "        wm = w.copy()\n",
    "        wp[i] += eps \n",
    "        wm[i] -= eps \n",
    "        g[i] = (cost(wp) - cost(wm))/(2*eps)\n",
    "    return g \n",
    "\n",
    "w0 = np.random.randn(X0_bar.shape[0], 1) \n",
    "g1 = grad(w0)\n",
    "g2 = num_grad(w0)\n",
    "diff = np.linalg.norm(g1 - g2)\n",
    "print('Gradient different: %f' %diff)"
   ]
  },
  {
   "cell_type": "code",
   "execution_count": 12,
   "metadata": {},
   "outputs": [
    {
     "name": "stdout",
     "output_type": "stream",
     "text": [
      "iter 1 cost: 78.971288\n",
      "iter 10001 cost: 15.750963\n",
      "iter 20001 cost: 15.743018\n",
      "iter 30001 cost: 15.722965\n",
      "iter 40001 cost: 15.702308\n",
      "iter 50001 cost: 15.690655\n",
      "iter 60001 cost: 15.681471\n",
      "iter 70001 cost: 15.663739\n",
      "iter 80001 cost: 15.664644\n",
      "iter 90001 cost: 15.672563\n",
      "[[-1.86292552 -1.79506469]] [8.44944505]\n"
     ]
    }
   ],
   "source": [
    "def grad_descent(w0, eta):\n",
    "    w = w0\n",
    "    it = 0 \n",
    "    while it < 100000:\n",
    "        it = it + 1\n",
    "        g = grad(w)\n",
    "        w -= eta*g\n",
    "        if (it % 10000) == 1:\n",
    "            print('iter %d' %it + ' cost: %f' %cost(w))\n",
    "        if np.linalg.norm(g) < 1e-5:\n",
    "            break \n",
    "    return w \n",
    "w0 = np.random.randn(X0_bar.shape[0], 1) \n",
    "w = grad_descent(w0, 0.001)\n",
    "w_hinge = w[:-1].reshape(-1, 1)\n",
    "b_hinge = w[-1]\n",
    "print(w_hinge.T, b_hinge)"
   ]
  },
  {
   "cell_type": "code",
   "execution_count": 14,
   "metadata": {},
   "outputs": [
    {
     "name": "stdout",
     "output_type": "stream",
     "text": [
      "[[-1.87461946 -1.80697358]] 8.496911901960104\n",
      "[[-1.86292552 -1.79506469]] [8.44944505]\n"
     ]
    }
   ],
   "source": [
    "print(w_sklearn.T, b_sklearn)\n",
    "# print(w_dual.T, b_dual) \n",
    "print(w_hinge.T, b_hinge)"
   ]
  },
  {
   "cell_type": "code",
   "execution_count": null,
   "metadata": {},
   "outputs": [],
   "source": []
  }
 ],
 "metadata": {
  "kernelspec": {
   "display_name": "Python 3",
   "language": "python",
   "name": "python3"
  },
  "language_info": {
   "codemirror_mode": {
    "name": "ipython",
    "version": 3
   },
   "file_extension": ".py",
   "mimetype": "text/x-python",
   "name": "python",
   "nbconvert_exporter": "python",
   "pygments_lexer": "ipython3",
   "version": "3.8.3"
  }
 },
 "nbformat": 4,
 "nbformat_minor": 4
}
