{
 "cells": [
  {
   "cell_type": "code",
   "execution_count": 4,
   "metadata": {},
   "outputs": [],
   "source": [
    "import numpy as np\n",
    "\n",
    "def predict(w, X):\n",
    "    \"\"\"\n",
    "    predict label of each row of X, given w\n",
    "    X: a 2-d numpy array of shape (N, d), each row is a datapoint\n",
    "    w: a 1-d numpy array of shape (d)\n",
    "    \"\"\"\n",
    "    return np.sign(X @ w)\n",
    "\n",
    "def perceptron(X, y, w_init):\n",
    "    \"\"\" perform perceptron learning algorithm\n",
    "    X: a 2-d numpy array of shape (N, d), each row is a datapoint\n",
    "    y: a 1-d numpy array of shape (N), label of each row of X. y[i] = 1/-1\n",
    "    w_init: a 1-d numpy array of shape (d)\n",
    "    \"\"\"\n",
    "    w = w_init\n",
    "    while True:\n",
    "        pred = predict(w, X)\n",
    "        # find indexes of misclassified points\n",
    "        mis_idxs = np.where(np.equal(pred, y) == False)[0]\n",
    "        # number of misclassified points\n",
    "        num_mis = mis_idxs.shape[0]\n",
    "        if num_mis == 0: # no more misclassified points\n",
    "            return w\n",
    "        # randomly pick one misclassified point\n",
    "        random_id = np.random.choice(mis_idxs, 1)[0]\n",
    "        # update w\n",
    "        w = w + y[random_id]*X[random_id]\n",
    "    return w"
   ]
  },
  {
   "cell_type": "code",
   "execution_count": 2,
   "metadata": {},
   "outputs": [],
   "source": [
    "means = [[-1, 0], [1, 0]]\n",
    "cov = [[.3, .2], [.2, .3]]\n",
    "N = 10\n",
    "X0 = np.random.multivariate_normal(means[0], cov, N)\n",
    "X1 = np.random.multivariate_normal(means[1], cov, N)\n",
    "X = np.concatenate((X0, X1), axis = 0)\n",
    "y = np.concatenate((np.ones(N), -1*np.ones(N)))\n",
    "Xbar = np.concatenate((np.ones((2*N, 1)), X), axis = 1)\n",
    "w_init = np.random.randn(Xbar.shape[1])\n",
    "w = perceptron(Xbar, y, w_init)"
   ]
  },
  {
   "cell_type": "code",
   "execution_count": 3,
   "metadata": {},
   "outputs": [
    {
     "name": "stdout",
     "output_type": "stream",
     "text": [
      "[ 0.55503276 -1.68767283 -1.16814936]\n"
     ]
    }
   ],
   "source": [
    "print(w)"
   ]
  },
  {
   "cell_type": "code",
   "execution_count": null,
   "metadata": {},
   "outputs": [],
   "source": []
  }
 ],
 "metadata": {
  "kernelspec": {
   "display_name": "Python 3",
   "language": "python",
   "name": "python3"
  },
  "language_info": {
   "codemirror_mode": {
    "name": "ipython",
    "version": 3
   },
   "file_extension": ".py",
   "mimetype": "text/x-python",
   "name": "python",
   "nbconvert_exporter": "python",
   "pygments_lexer": "ipython3",
   "version": "3.8.3"
  }
 },
 "nbformat": 4,
 "nbformat_minor": 4
}
