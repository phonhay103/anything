{
 "cells": [
  {
   "cell_type": "code",
   "execution_count": 1,
   "metadata": {},
   "outputs": [],
   "source": [
    "import random\n",
    "import numpy as np"
   ]
  },
  {
   "cell_type": "code",
   "execution_count": 112,
   "metadata": {},
   "outputs": [],
   "source": [
    "POPULATION_SIZE = 100\n",
    "INDIVIDUAL_SIZE = 5\n",
    "CROSSOVER_RATE = 0.9\n",
    "MUTATION_RATE = 0.05\n",
    "N_GENERATIONS = 100\n",
    "ELITISM = 2\n",
    "\n",
    "def value_range():\n",
    "    return range(-100, 100)\n",
    "\n",
    "def compute_loss(population):\n",
    "    \n",
    "\n",
    "def compute_fitness(population):\n",
    "    fitness = np.sum(population * prices, axis=1)\n",
    "    idx = np.sum(population * weights, axis=1) > 72\n",
    "    fitness[idx] = fitness[idx] / 1000\n",
    "    return fitness\n",
    "\n",
    "# Tạo ngẫu nhiên một quần thể\n",
    "def generate_population():\n",
    "    return np.random.choice(value_range(), size=(POPULATION_SIZE, INDIVIDUAL_SIZE))\n",
    "\n",
    "# Chọn ra population mới từ tập population cũ (theo xác suất)\n",
    "def select(population, fitness):\n",
    "    idx = np.random.choice(np.arange(POPULATION_SIZE), POPULATION_SIZE, p=fitness/fitness.sum())\n",
    "    return population[idx].copy()\n",
    "\n",
    "def crossover(individual1, individual2):\n",
    "    crossover_mask = np.random.rand(INDIVIDUAL_SIZE) < CROSSOVER_RATE\n",
    "\n",
    "    s1 = individual1.copy()\n",
    "    s2 = individual2.copy()\n",
    "    s1[crossover_mask], s2[crossover_mask] = s2[crossover_mask], s1[crossover_mask]\n",
    "    return s1, s2\n",
    "\n",
    "def mutate(individual):\n",
    "    mutate_mask = np.random.rand(INDIVIDUAL_SIZE) < MUTATION_RATE\n",
    "    mutate_vector = np.random.choice(value_range(), size=len(individual))\n",
    "\n",
    "    s = individual.copy()\n",
    "    s[mutate_mask] = mutate_vector[mutate_mask]\n",
    "    return s"
   ]
  },
  {
   "cell_type": "code",
   "execution_count": 113,
   "metadata": {
    "scrolled": false
   },
   "outputs": [],
   "source": [
    "population = generate_population()\n",
    "\n",
    "for _ in range(N_GENERATIONS):\n",
    "    fitness = compute_fitness(population)\n",
    "    n_elitism = population[fitness.argsort()[::-1][:2]].copy()\n",
    "    \n",
    "    population = select(population, fitness)\n",
    "    population_copy = population.copy()\n",
    "\n",
    "    for i in range(POPULATION_SIZE // 2 - 1):\n",
    "        idx1, idx2 = np.random.choice(np.arange(POPULATION_SIZE), size=2)\n",
    "        \n",
    "        s1 = population_copy[idx1]\n",
    "        s2 = population_copy[idx2]\n",
    "\n",
    "        s1, s2 = crossover(s1, s2)\n",
    "\n",
    "        s1 = mutate(s1)\n",
    "        s2 = mutate(s2)\n",
    "        \n",
    "        population[i] = s1\n",
    "        population[i+1] = s2\n",
    "\n",
    "    population[-ELITISM:] = n_elitism"
   ]
  },
  {
   "cell_type": "code",
   "execution_count": 129,
   "metadata": {},
   "outputs": [],
   "source": [
    "# Hàm load data\n",
    "def load_data():\n",
    "    # kết nối với file\n",
    "    file = open('data.csv','r')\n",
    "\n",
    "    # readlines giúp việc đọc file theo từng dòng , mỗi dòng là 1 chuỗi\n",
    "    lines = file.readlines()\n",
    "    \n",
    "    areas  = []\n",
    "    prices = []\n",
    "    for i in range(10): \n",
    "        string = lines[i].split(',')\n",
    "        areas.append(float(string[0]))\n",
    "        prices.append(float(string[1]))\n",
    "\n",
    "    # Đóng kết nối với file\n",
    "    file.close()\n",
    "    \n",
    "    return areas, prices\n",
    "\n",
    "# load data\n",
    "areas, prices = load_data()"
   ]
  },
  {
   "cell_type": "code",
   "execution_count": null,
   "metadata": {},
   "outputs": [],
   "source": []
  }
 ],
 "metadata": {
  "kernelspec": {
   "display_name": "Python 3",
   "language": "python",
   "name": "python3"
  },
  "language_info": {
   "codemirror_mode": {
    "name": "ipython",
    "version": 3
   },
   "file_extension": ".py",
   "mimetype": "text/x-python",
   "name": "python",
   "nbconvert_exporter": "python",
   "pygments_lexer": "ipython3",
   "version": "3.9.0"
  }
 },
 "nbformat": 4,
 "nbformat_minor": 4
}
