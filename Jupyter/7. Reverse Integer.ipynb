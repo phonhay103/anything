{
 "cells": [
  {
   "cell_type": "code",
   "execution_count": null,
   "metadata": {},
   "outputs": [],
   "source": [
    "def reverse(x: int) -> int:\n",
    "    mark = -1 if x < 0 else 1\n",
    "    x = int(str(abs(x))[::-1])\n",
    "\n",
    "    return 0 if x >= 2**31 else x * mark"
   ]
  },
  {
   "cell_type": "code",
   "execution_count": null,
   "metadata": {},
   "outputs": [],
   "source": [
    "assert reverse(123) == 321, 'Error'\n",
    "assert reverse(-123) == -321, 'Error'\n",
    "assert reverse(120) == 21, 'Error'\n",
    "assert reverse(0) == 0, 'Error'\n",
    "assert reverse(1234567899) == 0, 'Error'"
   ]
  },
  {
   "cell_type": "code",
   "execution_count": null,
   "metadata": {},
   "outputs": [],
   "source": []
  }
 ],
 "metadata": {
  "kernelspec": {
   "display_name": "Python 3",
   "language": "python",
   "name": "python3"
  },
  "language_info": {
   "codemirror_mode": {
    "name": "ipython",
    "version": 3
   },
   "file_extension": ".py",
   "mimetype": "text/x-python",
   "name": "python",
   "nbconvert_exporter": "python",
   "pygments_lexer": "ipython3",
   "version": "3.9.0"
  }
 },
 "nbformat": 4,
 "nbformat_minor": 4
}
