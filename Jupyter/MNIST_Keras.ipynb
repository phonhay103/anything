{
 "cells": [
  {
   "cell_type": "code",
   "execution_count": 6,
   "metadata": {},
   "outputs": [
    {
     "name": "stdout",
     "output_type": "stream",
     "text": [
      "Train on 50000 samples, validate on 10000 samples\n",
      "Epoch 1/10\n",
      "50000/50000 [==============================] - 66s 1ms/step - loss: 0.3348 - acc: 0.9125 - val_loss: 0.0681 - val_acc: 0.9824\n",
      "Epoch 2/10\n",
      "50000/50000 [==============================] - 65s 1ms/step - loss: 0.0578 - acc: 0.9836 - val_loss: 0.0485 - val_acc: 0.9873\n",
      "Epoch 3/10\n",
      "50000/50000 [==============================] - 64s 1ms/step - loss: 0.0358 - acc: 0.9899 - val_loss: 0.0441 - val_acc: 0.9871\n",
      "Epoch 4/10\n",
      "50000/50000 [==============================] - 64s 1ms/step - loss: 0.0230 - acc: 0.9936 - val_loss: 0.0417 - val_acc: 0.9877\n",
      "Epoch 5/10\n",
      "50000/50000 [==============================] - 61s 1ms/step - loss: 0.0160 - acc: 0.9953 - val_loss: 0.0400 - val_acc: 0.9872\n",
      "Epoch 6/10\n",
      "50000/50000 [==============================] - 59s 1ms/step - loss: 0.0092 - acc: 0.9979 - val_loss: 0.0388 - val_acc: 0.9884\n",
      "Epoch 7/10\n",
      "50000/50000 [==============================] - 60s 1ms/step - loss: 0.0081 - acc: 0.9979 - val_loss: 0.0393 - val_acc: 0.9889\n",
      "Epoch 8/10\n",
      "50000/50000 [==============================] - 61s 1ms/step - loss: 0.0059 - acc: 0.9986 - val_loss: 0.0434 - val_acc: 0.9880\n",
      "Epoch 9/10\n",
      "50000/50000 [==============================] - 60s 1ms/step - loss: 0.0034 - acc: 0.9992 - val_loss: 0.0396 - val_acc: 0.9900\n",
      "Epoch 10/10\n",
      "50000/50000 [==============================] - 60s 1ms/step - loss: 0.0018 - acc: 0.9998 - val_loss: 0.0401 - val_acc: 0.9897\n",
      "[0.03276931165080678, 0.9912999868392944]\n",
      "Giá trị dự đoán:  7\n"
     ]
    },
    {
     "data": {
      "image/png": "[encoded data removed]",
      "text/plain": [
       "<Figure size 432x288 with 1 Axes>"
      ]
     },
     "metadata": {
      "needs_background": "light"
     },
     "output_type": "display_data"
    }
   ],
   "source": [
    "# 1. Thêm các thư viện cần thiết\n",
    "import numpy as np\n",
    "import matplotlib.pyplot as plt\n",
    "from keras.models import Sequential\n",
    "from keras.layers import Dense, Dropout, Activation, Flatten\n",
    "from keras.layers import Conv2D, MaxPooling2D\n",
    "from keras.utils import np_utils\n",
    "from keras.datasets import mnist\n",
    "\n",
    "# 2. Load dữ liệu MNIST\n",
    "(X_train, y_train), (X_test, y_test) = mnist.load_data()\n",
    "X_val, y_val = X_train[50000:60000,:], y_train[50000:60000]\n",
    "X_train, y_train = X_train[:50000,:], y_train[:50000]\n",
    "\n",
    "# 3. Reshape lại dữ liệu cho đúng kích thước mà keras yêu cầu\n",
    "X_train = X_train.reshape(X_train.shape[0], 28, 28, 1)\n",
    "X_val = X_val.reshape(X_val.shape[0], 28, 28, 1)\n",
    "X_test = X_test.reshape(X_test.shape[0], 28, 28, 1)\n",
    "\n",
    "# 4. One hot encoding label (Y)\n",
    "Y_train = np_utils.to_categorical(y_train, 10)\n",
    "Y_val = np_utils.to_categorical(y_val, 10)\n",
    "Y_test = np_utils.to_categorical(y_test, 10)\n",
    "\n",
    "# 5. Định nghĩa model\n",
    "model = Sequential()\n",
    "\n",
    "# Thêm Convolutional layer với 32 kernel, kích thước kernel 3*3\n",
    "# dùng hàm sigmoid làm activation và chỉ rõ input_shape cho layer đầu tiên\n",
    "model.add(Conv2D(32, (3, 3), activation='sigmoid', input_shape=(28,28,1)))\n",
    "\n",
    "# Thêm Convolutional layer\n",
    "model.add(Conv2D(32, (3, 3), activation='sigmoid'))\n",
    "\n",
    "# Thêm Max pooling layer\n",
    "model.add(MaxPooling2D(pool_size=(2,2)))\n",
    "\n",
    "# Flatten layer chuyển từ tensor sang vector\n",
    "model.add(Flatten())\n",
    "\n",
    "# Thêm Fully Connected layer với 128 nodes và dùng hàm sigmoid\n",
    "model.add(Dense(128, activation='sigmoid'))\n",
    "\n",
    "# Output layer với 10 node và dùng softmax function để chuyển sang xác suất.\n",
    "model.add(Dense(10, activation='softmax'))\n",
    "\n",
    "# 6. Compile model, chỉ rõ hàm loss_function nào được sử dụng, phương thức\n",
    "# dùng để tối ưu hàm loss function.\n",
    "model.compile(loss='categorical_crossentropy', optimizer='adam', metrics=['acc'])\n",
    "\n",
    "# 7. Thực hiện train model với data\n",
    "H = model.fit(X_train, Y_train, validation_data=(X_val, Y_val), batch_size=32, epochs=10, verbose=1)\n",
    "\n",
    "# 8. Vẽ đồ thị loss, accuracy của training set và validation set\n",
    "fig = plt.figure()\n",
    "numOfEpoch = 10\n",
    "plt.plot(np.arange(0, numOfEpoch), H.history['loss'], label='training loss')\n",
    "plt.plot(np.arange(0, numOfEpoch), H.history['val_loss'], label='validation loss')\n",
    "plt.plot(np.arange(0, numOfEpoch), H.history['acc'], label='accuracy')\n",
    "plt.plot(np.arange(0, numOfEpoch), H.history['val_acc'], label='validation accuracy')\n",
    "plt.title('Accuracy and Loss')\n",
    "plt.xlabel('Epoch')\n",
    "plt.ylabel('Loss|Accuracy')\n",
    "plt.legend()\n",
    "\n",
    "# 9. Đánh giá model với dữ liệu test set\n",
    "score = model.evaluate(X_test, Y_test, verbose=0)\n",
    "print(score)\n",
    "\n",
    "# 10. Dự đoán ảnh\n",
    "plt.imshow(X_test[0].reshape(28,28), cmap='gray')\n",
    "\n",
    "y_predict = model.predict(X_test[0].reshape(1,28,28,1))\n",
    "print('Giá trị dự đoán: ', np.argmax(y_predict))"
   ]
  },
  {
   "cell_type": "code",
   "execution_count": null,
   "metadata": {},
   "outputs": [],
   "source": []
  }
 ],
 "metadata": {
  "kernelspec": {
   "display_name": "Python 3",
   "language": "python",
   "name": "python3"
  },
  "language_info": {
   "codemirror_mode": {
    "name": "ipython",
    "version": 3
   },
   "file_extension": ".py",
   "mimetype": "text/x-python",
   "name": "python",
   "nbconvert_exporter": "python",
   "pygments_lexer": "ipython3",
   "version": "3.7.4"
  }
 },
 "nbformat": 4,
 "nbformat_minor": 2
}
